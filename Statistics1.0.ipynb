{
 "cells": [
  {
   "cell_type": "markdown",
   "id": "74773c01-38e8-422a-8f2a-a5bb7a6bffa0",
   "metadata": {},
   "source": [
    "Q1. What is Statistics?"
   ]
  },
  {
   "cell_type": "markdown",
   "id": "8fce9ef7-9116-4016-8488-4dc1f926cd96",
   "metadata": {},
   "source": [
    "Statistics is the branch of mathematics that is all about the gathering, observing, interpretation, presentation, and organization of data. "
   ]
  },
  {
   "cell_type": "markdown",
   "id": "2c196db2-9d60-42d0-bdc1-640292ff1304",
   "metadata": {},
   "source": [
    "Q2. Define the different types of statistics and give an example of when each type might be used."
   ]
  },
  {
   "cell_type": "markdown",
   "id": "e7236d78-d685-498f-b697-8a16c8566d2d",
   "metadata": {},
   "source": [
    "Discriptive statistics :"
   ]
  },
  {
   "cell_type": "markdown",
   "id": "6011c89b-8107-405f-b972-1413356e07bb",
   "metadata": {},
   "source": [
    "Heights of students in a school - calculating the average height (mean) and the variability (standard deviation) of heights."
   ]
  },
  {
   "cell_type": "markdown",
   "id": "306527e5-f698-4582-a29b-c6a9915eee60",
   "metadata": {},
   "source": [
    "Infrerntial statistics :"
   ]
  },
  {
   "cell_type": "markdown",
   "id": "35ac3492-38c1-4d13-b526-1ae232a5276d",
   "metadata": {},
   "source": [
    "Estimating the average income of people in a city by taking a random sample and calculating a confidence interval."
   ]
  },
  {
   "cell_type": "markdown",
   "id": "1c6565c5-4c87-4a71-855c-c72446e30303",
   "metadata": {},
   "source": [
    "Q3. What are the different types of data and how do they differ from each other? Provide an example of\n",
    "each type of data."
   ]
  },
  {
   "cell_type": "markdown",
   "id": "9d7c2294-c058-4a0b-a721-65f730925692",
   "metadata": {},
   "source": [
    "Qualitative (Categorical) Data:\n",
    "    \n",
    "    \n",
    "    \n",
    "    Example:\n",
    "    Colors of cars in a parking lot"
   ]
  },
  {
   "cell_type": "markdown",
   "id": "0e32ea8c-b966-48ef-b1a4-590feeb413e3",
   "metadata": {},
   "source": [
    "Quantitative (Numerical) Data:\n",
    "\n",
    "\n",
    "    Example:\n",
    "    Temperature in Celsius."
   ]
  },
  {
   "cell_type": "markdown",
   "id": "2b2d3c44-8371-45b3-8127-a469b537c2d3",
   "metadata": {},
   "source": [
    "Q4. Categorise the following datasets with respect to quantitative and qualitative data types:\n",
    "    \n",
    "    \n",
    "    (i) Grading in exam: A+, A, B+, B, C+, C, D, E\n",
    "    (ii) Colour of mangoes: yellow, green, orange, red\n",
    "    (iii) Height data of a class: [178.9, 179, 179.5, 176, 177.2, 178.3, 175.8,...]\n",
    "    (iv) Number of mangoes exported by a farm: [500, 600, 478, 672, ...]"
   ]
  },
  {
   "cell_type": "markdown",
   "id": "45e843da-b78b-4360-b437-86f35bdb6785",
   "metadata": {},
   "source": [
    "Qualitative (Categorical) Data:\n",
    "\n",
    "    (i) Grading in exam: A+, A, B+, B, C+, C, D, E\n",
    "    (ii) Colour of mangoes: yellow, green, orange, red"
   ]
  },
  {
   "cell_type": "markdown",
   "id": "2e7a1a60-d83e-4afd-95bb-bdf9ff18ee82",
   "metadata": {},
   "source": [
    "Quantitative (Numerical) Data:\n",
    "\n",
    "    (iii) Height data of a class: [178.9, 179, 179.5, 176, 177.2, 178.3, 175.8, ...]\n",
    "    (iv) Number of mangoes exported by a farm: [500, 600, 478, 672, ...]"
   ]
  },
  {
   "cell_type": "markdown",
   "id": "c37aac62-8e64-44dc-b313-45723d33f0af",
   "metadata": {},
   "source": [
    "Q5. Explain the concept of levels of measurement and give an example of a variable for each level."
   ]
  },
  {
   "cell_type": "markdown",
   "id": "f8d54b2a-4b3c-4d1e-8af0-daadf34b1341",
   "metadata": {},
   "source": [
    "There are four levels: nominal, ordinal, interval, and ratio.\n",
    "\n",
    "    Nominal Level: Data is grouped into distinct categories with no specific order or ranking. We assign names or labels to represent different categories. Example: Eye colors (blue, brown, green) or genders (male, female).\n",
    "\n",
    "    Ordinal Level: Data has a natural order or ranking, but the differences between the categories are not necessarily equal or quantifiable. Example: Educational levels (elementary, high school, bachelor's, master's, Ph.D.) or movie ratings (1 star, 2 stars, 3 stars, 4 stars, 5 stars).\n",
    "\n",
    "    Interval Level: Data is numeric, and the intervals between values are consistent, but there is no true zero point. Arithmetic operations like addition and subtraction are meaningful, but ratios are not. Example: Temperature in Celsius, where the difference between 20°C and 10°C is the same as the difference between 30°C and 20°C.\n",
    "\n",
    "    Ratio Level: Data is numeric with a true zero point, allowing meaningful ratios and all arithmetic operations. This is the most precise level of measurement. Example: Weight in kilograms, where 0 kg represents an absence of weight, and 20 kg is twice as heavy as 10 kg."
   ]
  },
  {
   "cell_type": "markdown",
   "id": "aac91b45-5616-45d8-818c-5d72dcb8906b",
   "metadata": {},
   "source": [
    "Q6. Why is it important to understand the level of measurement when analyzing data? Provide an\n",
    "example to illustrate your answer."
   ]
  },
  {
   "cell_type": "markdown",
   "id": "4f15dbd8-949a-4f4d-8056-f2448473c651",
   "metadata": {},
   "source": [
    "Understanding the level of measurement is important when analyzing data because it determines the type of statistical analysis that can be applied and the appropriate ways to summarize and interpret the data.\n",
    "    \n",
    "     suppose we want to calculate the average favorite color. If we treat the colors as numbers (e.g., Blue = 1, Green = 2, Red = 3, Yellow = 4), we might mistakenly perform arithmetic operations like averaging the numbers:\n",
    "    Student ID  Favorite Color\n",
    "        1\tBlue\n",
    "        2\tGreen\n",
    "        3\tRed\n",
    "        4\tYellow\n",
    "        5\tGreen\n",
    "\n",
    "    (1 + 2 + 3 + 4 + 2) / 5 = 2.4\n",
    "\n",
    "    However, this result of 2.4 has no meaningful interpretation in the context of favorite colors. We cannot say that the average favorite color is \"2.4\" because the numbers assigned to colors were arbitrary and do not represent any underlying quantity.\n",
    "\n",
    "    If we had understood that the \"Favorite Color\" variable is nominal data, we would have realized that calculating the average is not meaningful for this type of data. Instead, we could analyze the frequency distribution to see which color is the most preferred among the students or perform other appropriate measures of central tendency for nominal data."
   ]
  },
  {
   "cell_type": "markdown",
   "id": "10b4f40b-3df7-49c2-a27e-2edcc44746b4",
   "metadata": {},
   "source": [
    "Q7. How nominal data type is different from ordinal data type."
   ]
  },
  {
   "cell_type": "markdown",
   "id": "22502a76-3f71-4546-bb9c-01c446e4353e",
   "metadata": {},
   "source": [
    "    Nominal Data:\n",
    "\n",
    "    Nominal data is a type of categorical data.\n",
    "    The data is divided into distinct categories or groups.\n",
    "    There is no inherent order or ranking among the categories.\n",
    "    Data is typically represented using labels or names.\n",
    "    Arithmetic operations (e.g., addition, subtraction) are not meaningful on nominal data.\n",
    "    \n",
    "    Ordinal Data:\n",
    "    \n",
    "    Ordinal data is also a type of categorical data.\n",
    "    The data is divided into distinct categories with a natural order or ranking.\n",
    "    The order of the categories is meaningful, but the differences between them may not be consistent or quantifiable.\n",
    "    Data is often represented using labels or rankings.\n",
    "    Arithmetic operations are not meaningful on ordinal data."
   ]
  },
  {
   "cell_type": "markdown",
   "id": "4e73b03a-171d-48cf-a7c0-e70c6d8ff447",
   "metadata": {},
   "source": [
    "Q8. Which type of plot can be used to display data in terms of range?"
   ]
  },
  {
   "cell_type": "markdown",
   "id": "904949a8-04ee-4711-9977-ba33a25a57ab",
   "metadata": {},
   "source": [
    "    A box plot, also known as a box-and-whisker plot, is a type of plot that is commonly used to display data in terms of range. The box plot provides a visual representation of the distribution of a dataset, showing the minimum, maximum, quartiles, and any potential outliers."
   ]
  },
  {
   "cell_type": "markdown",
   "id": "6746430b-f103-479c-b6ad-4ea683a3db29",
   "metadata": {},
   "source": [
    "Q9. Describe the difference between descriptive and inferential statistics. Give an example of each\n",
    "type of statistics and explain how they are used."
   ]
  },
  {
   "cell_type": "markdown",
   "id": "6d34c9e8-77b3-45a1-a9a0-8cb277056293",
   "metadata": {},
   "source": [
    "    Descriptive Statistics:\n",
    "\n",
    "    Summarizes and organizes data to describe its main features.\n",
    "    Presents data in a meaningful way without making inferences beyond the data itself.\n",
    "    Focuses on understanding the central tendency, variability, and distribution of the data.\n",
    "    \n",
    "    Example of Descriptive Statistics:\n",
    "\n",
    "    Calculate the mean (average), median (middle value), and standard deviation of test scores in a class."
   ]
  },
  {
   "cell_type": "markdown",
   "id": "d4b55d89-81c1-4468-a451-18d0387df8d6",
   "metadata": {},
   "source": [
    "    Inferential Statistics:\n",
    "\n",
    "    Makes predictions, inferences, or generalizations about a larger population based on a sample of data.\n",
    "    Uses probability theory to estimate parameters and test hypotheses.\n",
    "    \n",
    "    Example of Inferential Statistics:\n",
    "\n",
    "    Estimate the average income of people in a country based on a random sample of individuals' income data."
   ]
  },
  {
   "cell_type": "markdown",
   "id": "4c0f2331-e7f0-4995-a673-acee51b5ac35",
   "metadata": {},
   "source": [
    "Q10. What are some common measures of central tendency and variability used in statistics? Explain\n",
    "how each measure can be used to describe a dataset."
   ]
  },
  {
   "cell_type": "markdown",
   "id": "b6ce29bd-86e5-4e28-933d-932f1717c6ab",
   "metadata": {},
   "source": [
    "Measures of Central Tendency:\n",
    "\n",
    "    Mean\n",
    "\n",
    "    The arithmetic average of all data points in the dataset.\n",
    "    Usage: Provides a typical representation of the data and is useful for continuous or interval data.\n",
    "    Median\n",
    "\n",
    "    The middle value when the data is arranged in ascending or descending order.\n",
    "    Usage: Robust measure, especially useful when dealing with skewed data or data with outliers.\n",
    "    Mode\n",
    "\n",
    "    The most frequent value(s) in the dataset.\n",
    "    Usage: Useful for nominal data with distinct categories, identifying the most common value.\n",
    "\n",
    "    Measures of Variability:\n",
    "\n",
    "    Range\n",
    "\n",
    "    The difference between the maximum and minimum values in the dataset.\n",
    "    Usage: Gives a quick indication of the spread but is sensitive to extreme values.\n",
    "    \n",
    "    Variance\n",
    "\n",
    "    The average squared deviation of each data point from the mean.\n",
    "    Usage: Quantifies the overall variability of the dataset but not in the same units as the original data.\n",
    "    \n",
    "    Standard Deviation\n",
    "\n",
    "    The square root of the variance.\n",
    "    Usage: Widely used measure of variability, provides a more interpretable understanding of data spread."
   ]
  }
 ],
 "metadata": {
  "kernelspec": {
   "display_name": "Python 3 (ipykernel)",
   "language": "python",
   "name": "python3"
  },
  "language_info": {
   "codemirror_mode": {
    "name": "ipython",
    "version": 3
   },
   "file_extension": ".py",
   "mimetype": "text/x-python",
   "name": "python",
   "nbconvert_exporter": "python",
   "pygments_lexer": "ipython3",
   "version": "3.10.8"
  }
 },
 "nbformat": 4,
 "nbformat_minor": 5
}
